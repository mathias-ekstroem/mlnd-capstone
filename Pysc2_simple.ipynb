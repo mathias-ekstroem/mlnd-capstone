{
 "cells": [
  {
   "cell_type": "markdown",
   "metadata": {},
   "source": [
    "# Notebook for pysc2 environment exploration\n",
    "The python api for starcraft 2 is not as simple as many of the openai gym learning environments. \n",
    "\n",
    "Luckily there's a mock env for testing the code in a notebook like this."
   ]
  },
  {
   "cell_type": "markdown",
   "metadata": {},
   "source": [
    "### Imports"
   ]
  },
  {
   "cell_type": "code",
   "execution_count": 1,
   "metadata": {},
   "outputs": [
    {
     "name": "stdout",
     "output_type": "stream",
     "text": [
      "pygame 1.9.4\n",
      "Hello from the pygame community. https://www.pygame.org/contribute.html\n"
     ]
    }
   ],
   "source": [
    "from pysc2.env.mock_sc2_env import SC2TestEnv\n",
    "from pysc2.env import sc2_env\n",
    "from pysc2.agents import base_agent\n",
    "from pysc2.lib import actions\n",
    "\n",
    "import numpy as np\n",
    "import json\n",
    "\n",
    "%load_ext autoreload\n",
    "%autoreload 2"
   ]
  },
  {
   "cell_type": "markdown",
   "metadata": {},
   "source": [
    "### Initialize pysc2 mocv env"
   ]
  },
  {
   "cell_type": "code",
   "execution_count": 2,
   "metadata": {},
   "outputs": [],
   "source": [
    "players = [\n",
    "    sc2_env.Agent(race=sc2_env.Race.terran),\n",
    "    sc2_env.Agent(race=sc2_env.Race.protoss),\n",
    "]\n",
    "\n",
    "kwargs = {\n",
    "    'agent_interface_format': [\n",
    "        sc2_env.AgentInterfaceFormat(\n",
    "            feature_dimensions=sc2_env.Dimensions(\n",
    "                screen=(8, 8),\n",
    "                minimap=(4, 4)\n",
    "            ),\n",
    "            rgb_dimensions=sc2_env.Dimensions(\n",
    "                screen=(63, 63),\n",
    "                minimap=(15, 15)\n",
    "            ),\n",
    "            action_space=sc2_env.ActionSpace.FEATURES\n",
    "        ),\n",
    "    ]\n",
    "}\n",
    "\n",
    "\n",
    "env = SC2TestEnv(**kwargs)"
   ]
  },
  {
   "cell_type": "markdown",
   "metadata": {},
   "source": [
    "### Exploration of the timestep returned from the env"
   ]
  },
  {
   "cell_type": "code",
   "execution_count": 3,
   "metadata": {},
   "outputs": [
    {
     "name": "stdout",
     "output_type": "stream",
     "text": [
      "StepType.FIRST\n",
      "0.0\n",
      "0.0\n",
      "<class 'pysc2.lib.named_array.NamedNumpyArray'>\n",
      "[  0   1   2   3   4 451   6   7 452]\n"
     ]
    }
   ],
   "source": [
    "time_step = env.reset()\n",
    "\n",
    "# for now we will only get one observation at a time\n",
    "step_type, reward, discount, observation = time_step[0]\n",
    "\n",
    "print(step_type)\n",
    "print(reward)\n",
    "print(discount)\n",
    "print(type(observation.feature_screen))\n",
    "\n",
    "indexes = [\n",
    "    'height_map', \n",
    "    'visibility_map', \n",
    "    'creep', \n",
    "    'power', \n",
    "    'player_id', \n",
    "    '...', \n",
    "    'unit_shields', \n",
    "    'unit_shields_ratio', \n",
    "    'unit_density', \n",
    "    'unit_density_aa', \n",
    "    'effects'\n",
    "]\n",
    "\n",
    "\n",
    "print(observation.available_actions)\n",
    "\n",
    "action_spec = env.action_spec()\n",
    "\n",
    "\n",
    "#action_spec.functions\n",
    "\n",
    "#actions.FunctionCall(2, )\n",
    "\n",
    "\n",
    "#print(type(obs[0].observation))\n",
    "#print(type(obs[0]))\n",
    "#print(json.dumps(obs[0].observation))"
   ]
  },
  {
   "cell_type": "code",
   "execution_count": null,
   "metadata": {},
   "outputs": [],
   "source": []
  },
  {
   "cell_type": "code",
   "execution_count": 4,
   "metadata": {},
   "outputs": [],
   "source": [
    "class RandomAgent(base_agent.BaseAgent):\n",
    "  \"\"\"A random agent for starcraft.\"\"\"\n",
    "\n",
    "  def step(self, obs):\n",
    "    super(RandomAgent, self).step(obs)\n",
    "    function_id = numpy.random.choice(obs.observation.available_actions)\n",
    "    args = [[numpy.random.randint(0, size) for size in arg.sizes]\n",
    "            for arg in self.action_spec.functions[function_id].args]\n",
    "    return actions.FunctionCall(function_id, args)\n"
   ]
  },
  {
   "cell_type": "code",
   "execution_count": null,
   "metadata": {},
   "outputs": [],
   "source": []
  },
  {
   "cell_type": "markdown",
   "metadata": {},
   "source": [
    "### Define the agent"
   ]
  },
  {
   "cell_type": "code",
   "execution_count": 5,
   "metadata": {},
   "outputs": [],
   "source": [
    "class BaseAgent(object):\n",
    "  \"\"\"A base agent to write custom scripted agents.\n",
    "\n",
    "  It can also act as a passive agent that does nothing but no-ops.\n",
    "  \"\"\"\n",
    "\n",
    "  def __init__(self):\n",
    "    self.reward = 0\n",
    "    self.episodes = 0\n",
    "    self.steps = 0\n",
    "    self.obs_spec = None\n",
    "    self.action_spec = None\n",
    "\n",
    "  def setup(self, obs_spec, action_spec):\n",
    "    self.obs_spec = obs_spec\n",
    "    self.action_spec = action_spec\n",
    "\n",
    "  def reset(self):\n",
    "    self.episodes += 1\n",
    "\n",
    "  def step(self, obs):\n",
    "    self.steps += 1\n",
    "    self.reward += obs.reward\n",
    "    return actions.FunctionCall(actions.FUNCTIONS.no_op.id, [])"
   ]
  },
  {
   "cell_type": "code",
   "execution_count": 6,
   "metadata": {},
   "outputs": [],
   "source": [
    "class MyAgent(BaseAgent):\n",
    "    \n",
    "    def step(self, obs):\n",
    "        super(MyAgent, self).step(obs)\n",
    "        "
   ]
  },
  {
   "cell_type": "code",
   "execution_count": null,
   "metadata": {},
   "outputs": [],
   "source": []
  }
 ],
 "metadata": {
  "kernelspec": {
   "display_name": "pysc2",
   "language": "python",
   "name": "pysc2"
  },
  "language_info": {
   "codemirror_mode": {
    "name": "ipython",
    "version": 3
   },
   "file_extension": ".py",
   "mimetype": "text/x-python",
   "name": "python",
   "nbconvert_exporter": "python",
   "pygments_lexer": "ipython3",
   "version": "3.6.7"
  }
 },
 "nbformat": 4,
 "nbformat_minor": 2
}
